{
 "cells": [
  {
   "cell_type": "code",
   "execution_count": 1,
   "id": "41e835bb",
   "metadata": {
    "_cell_guid": "b1076dfc-b9ad-4769-8c92-a6c4dae69d19",
    "_uuid": "8f2839f25d086af736a60e9eeb907d3b93b6e0e5",
    "execution": {
     "iopub.execute_input": "2023-01-23T18:48:26.037658Z",
     "iopub.status.busy": "2023-01-23T18:48:26.036785Z",
     "iopub.status.idle": "2023-01-23T18:48:27.598647Z",
     "shell.execute_reply": "2023-01-23T18:48:27.597472Z"
    },
    "papermill": {
     "duration": 1.577531,
     "end_time": "2023-01-23T18:48:27.602154",
     "exception": false,
     "start_time": "2023-01-23T18:48:26.024623",
     "status": "completed"
    },
    "tags": []
   },
   "outputs": [],
   "source": [
    "import numpy as np\n",
    "import pandas as pd\n",
    "from matplotlib import pyplot as plt\n",
    "import seaborn as sns\n",
    "from sklearn.model_selection import train_test_split\n",
    "from sklearn.ensemble import RandomForestClassifier\n",
    "from sklearn import preprocessing\n",
    "from sklearn import utils\n",
    "from sklearn import metrics\n",
    "from sklearn.tree import DecisionTreeClassifier\n",
    "from sklearn.svm import SVR\n",
    "from sklearn.metrics import r2_score\n",
    "from sklearn.metrics import confusion_matrix\n",
    "from sklearn.metrics import classification_report\n",
    "from sklearn.metrics import mean_squared_error\n",
    "from sklearn.metrics import mean_absolute_error\n",
    "from sklearn.metrics import mean_squared_log_error\n",
    "from sklearn.metrics import f1_score\n",
    "import warnings\n",
    "warnings.filterwarnings(\"ignore\")"
   ]
  },
  {
   "cell_type": "code",
   "execution_count": 2,
   "id": "41132450",
   "metadata": {
    "execution": {
     "iopub.execute_input": "2023-01-23T18:48:27.623811Z",
     "iopub.status.busy": "2023-01-23T18:48:27.623284Z",
     "iopub.status.idle": "2023-01-23T18:48:27.652209Z",
     "shell.execute_reply": "2023-01-23T18:48:27.650777Z"
    },
    "papermill": {
     "duration": 0.043905,
     "end_time": "2023-01-23T18:48:27.655302",
     "exception": false,
     "start_time": "2023-01-23T18:48:27.611397",
     "status": "completed"
    },
    "tags": []
   },
   "outputs": [],
   "source": [
    "data = pd.read_csv('ETP_Dataset.csv')"
   ]
  },
  {
   "cell_type": "code",
   "execution_count": 3,
   "id": "4259bf6b",
   "metadata": {
    "execution": {
     "iopub.execute_input": "2023-01-23T18:48:27.673572Z",
     "iopub.status.busy": "2023-01-23T18:48:27.672482Z",
     "iopub.status.idle": "2023-01-23T18:48:27.705971Z",
     "shell.execute_reply": "2023-01-23T18:48:27.704413Z"
    },
    "papermill": {
     "duration": 0.044762,
     "end_time": "2023-01-23T18:48:27.708077",
     "exception": false,
     "start_time": "2023-01-23T18:48:27.663315",
     "status": "completed"
    },
    "tags": []
   },
   "outputs": [
    {
     "data": {
      "text/html": [
       "<div>\n",
       "<style scoped>\n",
       "    .dataframe tbody tr th:only-of-type {\n",
       "        vertical-align: middle;\n",
       "    }\n",
       "\n",
       "    .dataframe tbody tr th {\n",
       "        vertical-align: top;\n",
       "    }\n",
       "\n",
       "    .dataframe thead th {\n",
       "        text-align: right;\n",
       "    }\n",
       "</style>\n",
       "<table border=\"1\" class=\"dataframe\">\n",
       "  <thead>\n",
       "    <tr style=\"text-align: right;\">\n",
       "      <th></th>\n",
       "      <th>Date/heure</th>\n",
       "      <th>moy_Temp[°C]</th>\n",
       "      <th>max_Temp[°C]</th>\n",
       "      <th>min_Temp[°C]</th>\n",
       "      <th>moy_DewPoint[°C]</th>\n",
       "      <th>min_DewPoint[°C]</th>\n",
       "      <th>moy_SolarRadiation[W/m2]</th>\n",
       "      <th>moy_VPD[kPa]</th>\n",
       "      <th>min_VPD[kPa]</th>\n",
       "      <th>moy_RelativeHumidity[%]</th>\n",
       "      <th>max_RelativeHumidity[%]</th>\n",
       "      <th>min_RelativeHumidity[%]</th>\n",
       "      <th>Somme_Precipitation[mm]</th>\n",
       "      <th>moy_WindSpeed[m/s]</th>\n",
       "      <th>max_WindSpeed[m/s]</th>\n",
       "      <th>max_WindSpeedMax[m/s]</th>\n",
       "      <th>moy_WindDirection[deg]</th>\n",
       "      <th>dernier_WindDirection[deg]</th>\n",
       "      <th>ETP quotidien [mm]</th>\n",
       "    </tr>\n",
       "  </thead>\n",
       "  <tbody>\n",
       "    <tr>\n",
       "      <th>0</th>\n",
       "      <td>05/08/2022 00:00</td>\n",
       "      <td>24.73</td>\n",
       "      <td>35.08</td>\n",
       "      <td>15.11</td>\n",
       "      <td>12.4</td>\n",
       "      <td>8.8</td>\n",
       "      <td>361</td>\n",
       "      <td>1.90</td>\n",
       "      <td>0.30</td>\n",
       "      <td>51.87</td>\n",
       "      <td>83.30</td>\n",
       "      <td>22.00</td>\n",
       "      <td>0.0</td>\n",
       "      <td>0.5</td>\n",
       "      <td>2.1</td>\n",
       "      <td>4.4</td>\n",
       "      <td>263.5</td>\n",
       "      <td>263.5</td>\n",
       "      <td>2.8</td>\n",
       "    </tr>\n",
       "    <tr>\n",
       "      <th>1</th>\n",
       "      <td>04/08/2022 00:00</td>\n",
       "      <td>25.26</td>\n",
       "      <td>35.79</td>\n",
       "      <td>16.40</td>\n",
       "      <td>14.6</td>\n",
       "      <td>8.0</td>\n",
       "      <td>288</td>\n",
       "      <td>1.73</td>\n",
       "      <td>0.00</td>\n",
       "      <td>59.06</td>\n",
       "      <td>99.54</td>\n",
       "      <td>19.84</td>\n",
       "      <td>0.0</td>\n",
       "      <td>0.6</td>\n",
       "      <td>1.7</td>\n",
       "      <td>5.3</td>\n",
       "      <td>263.5</td>\n",
       "      <td>263.5</td>\n",
       "      <td>5.0</td>\n",
       "    </tr>\n",
       "    <tr>\n",
       "      <th>2</th>\n",
       "      <td>03/08/2022 00:00</td>\n",
       "      <td>28.37</td>\n",
       "      <td>36.71</td>\n",
       "      <td>19.80</td>\n",
       "      <td>12.3</td>\n",
       "      <td>7.4</td>\n",
       "      <td>285</td>\n",
       "      <td>2.56</td>\n",
       "      <td>0.95</td>\n",
       "      <td>38.43</td>\n",
       "      <td>65.76</td>\n",
       "      <td>23.60</td>\n",
       "      <td>0.0</td>\n",
       "      <td>0.7</td>\n",
       "      <td>2.6</td>\n",
       "      <td>5.3</td>\n",
       "      <td>263.5</td>\n",
       "      <td>263.5</td>\n",
       "      <td>5.3</td>\n",
       "    </tr>\n",
       "    <tr>\n",
       "      <th>3</th>\n",
       "      <td>02/08/2022 00:00</td>\n",
       "      <td>32.17</td>\n",
       "      <td>43.43</td>\n",
       "      <td>19.68</td>\n",
       "      <td>0.9</td>\n",
       "      <td>-4.7</td>\n",
       "      <td>296</td>\n",
       "      <td>4.55</td>\n",
       "      <td>1.70</td>\n",
       "      <td>16.44</td>\n",
       "      <td>38.56</td>\n",
       "      <td>5.23</td>\n",
       "      <td>0.0</td>\n",
       "      <td>0.6</td>\n",
       "      <td>2.3</td>\n",
       "      <td>6.6</td>\n",
       "      <td>263.5</td>\n",
       "      <td>263.5</td>\n",
       "      <td>5.3</td>\n",
       "    </tr>\n",
       "    <tr>\n",
       "      <th>4</th>\n",
       "      <td>01/08/2022 00:00</td>\n",
       "      <td>32.30</td>\n",
       "      <td>41.90</td>\n",
       "      <td>21.26</td>\n",
       "      <td>8.7</td>\n",
       "      <td>1.5</td>\n",
       "      <td>290</td>\n",
       "      <td>3.97</td>\n",
       "      <td>1.39</td>\n",
       "      <td>26.68</td>\n",
       "      <td>47.56</td>\n",
       "      <td>9.52</td>\n",
       "      <td>0.0</td>\n",
       "      <td>0.6</td>\n",
       "      <td>2.7</td>\n",
       "      <td>6.7</td>\n",
       "      <td>263.5</td>\n",
       "      <td>263.5</td>\n",
       "      <td>5.5</td>\n",
       "    </tr>\n",
       "  </tbody>\n",
       "</table>\n",
       "</div>"
      ],
      "text/plain": [
       "         Date/heure  moy_Temp[°C]  max_Temp[°C]  min_Temp[°C]  \\\n",
       "0  05/08/2022 00:00         24.73         35.08         15.11   \n",
       "1  04/08/2022 00:00         25.26         35.79         16.40   \n",
       "2  03/08/2022 00:00         28.37         36.71         19.80   \n",
       "3  02/08/2022 00:00         32.17         43.43         19.68   \n",
       "4  01/08/2022 00:00         32.30         41.90         21.26   \n",
       "\n",
       "   moy_DewPoint[°C]  min_DewPoint[°C]  moy_SolarRadiation[W/m2]  moy_VPD[kPa]  \\\n",
       "0              12.4               8.8                       361          1.90   \n",
       "1              14.6               8.0                       288          1.73   \n",
       "2              12.3               7.4                       285          2.56   \n",
       "3               0.9              -4.7                       296          4.55   \n",
       "4               8.7               1.5                       290          3.97   \n",
       "\n",
       "   min_VPD[kPa]  moy_RelativeHumidity[%]  max_RelativeHumidity[%]  \\\n",
       "0          0.30                    51.87                    83.30   \n",
       "1          0.00                    59.06                    99.54   \n",
       "2          0.95                    38.43                    65.76   \n",
       "3          1.70                    16.44                    38.56   \n",
       "4          1.39                    26.68                    47.56   \n",
       "\n",
       "   min_RelativeHumidity[%]  Somme_Precipitation[mm]  moy_WindSpeed[m/s]  \\\n",
       "0                    22.00                      0.0                 0.5   \n",
       "1                    19.84                      0.0                 0.6   \n",
       "2                    23.60                      0.0                 0.7   \n",
       "3                     5.23                      0.0                 0.6   \n",
       "4                     9.52                      0.0                 0.6   \n",
       "\n",
       "   max_WindSpeed[m/s]  max_WindSpeedMax[m/s]  moy_WindDirection[deg]  \\\n",
       "0                 2.1                    4.4                   263.5   \n",
       "1                 1.7                    5.3                   263.5   \n",
       "2                 2.6                    5.3                   263.5   \n",
       "3                 2.3                    6.6                   263.5   \n",
       "4                 2.7                    6.7                   263.5   \n",
       "\n",
       "   dernier_WindDirection[deg]  ETP quotidien [mm]  \n",
       "0                       263.5                 2.8  \n",
       "1                       263.5                 5.0  \n",
       "2                       263.5                 5.3  \n",
       "3                       263.5                 5.3  \n",
       "4                       263.5                 5.5  "
      ]
     },
     "execution_count": 3,
     "metadata": {},
     "output_type": "execute_result"
    }
   ],
   "source": [
    "data.head()"
   ]
  },
  {
   "cell_type": "code",
   "execution_count": 4,
   "id": "51390bd7",
   "metadata": {
    "execution": {
     "iopub.execute_input": "2023-01-23T18:48:27.726411Z",
     "iopub.status.busy": "2023-01-23T18:48:27.725941Z",
     "iopub.status.idle": "2023-01-23T18:48:27.732792Z",
     "shell.execute_reply": "2023-01-23T18:48:27.731846Z"
    },
    "papermill": {
     "duration": 0.019641,
     "end_time": "2023-01-23T18:48:27.735873",
     "exception": false,
     "start_time": "2023-01-23T18:48:27.716232",
     "status": "completed"
    },
    "tags": []
   },
   "outputs": [
    {
     "data": {
      "text/plain": [
       "['Date/heure',\n",
       " 'moy_Temp[°C]',\n",
       " 'max_Temp[°C]',\n",
       " 'min_Temp[°C]',\n",
       " 'moy_DewPoint[°C]',\n",
       " 'min_DewPoint[°C]',\n",
       " 'moy_SolarRadiation[W/m2]',\n",
       " 'moy_VPD[kPa]',\n",
       " 'min_VPD[kPa]',\n",
       " 'moy_RelativeHumidity[%]',\n",
       " 'max_RelativeHumidity[%]',\n",
       " 'min_RelativeHumidity[%]',\n",
       " 'Somme_Precipitation[mm]',\n",
       " 'moy_WindSpeed[m/s]',\n",
       " 'max_WindSpeed[m/s]',\n",
       " 'max_WindSpeedMax[m/s]',\n",
       " 'moy_WindDirection[deg]',\n",
       " 'dernier_WindDirection[deg]',\n",
       " 'ETP quotidien [mm]']"
      ]
     },
     "execution_count": 4,
     "metadata": {},
     "output_type": "execute_result"
    }
   ],
   "source": [
    "list(data.columns)"
   ]
  },
  {
   "cell_type": "markdown",
   "id": "f6c4c771",
   "metadata": {
    "papermill": {
     "duration": 0.008179,
     "end_time": "2023-01-23T18:48:27.755592",
     "exception": false,
     "start_time": "2023-01-23T18:48:27.747413",
     "status": "completed"
    },
    "tags": []
   },
   "source": [
    "**Dropping columns = [Date/heure , moy_WindDirection[deg] , dernier_WindDirection[deg]]**"
   ]
  },
  {
   "cell_type": "code",
   "execution_count": 5,
   "id": "df7f023a",
   "metadata": {
    "execution": {
     "iopub.execute_input": "2023-01-23T18:48:27.774939Z",
     "iopub.status.busy": "2023-01-23T18:48:27.774451Z",
     "iopub.status.idle": "2023-01-23T18:48:27.790583Z",
     "shell.execute_reply": "2023-01-23T18:48:27.789079Z"
    },
    "papermill": {
     "duration": 0.028837,
     "end_time": "2023-01-23T18:48:27.793032",
     "exception": false,
     "start_time": "2023-01-23T18:48:27.764195",
     "status": "completed"
    },
    "tags": []
   },
   "outputs": [],
   "source": [
    "data.drop('Date/heure', inplace=True, axis=1)\n",
    "data.drop('moy_WindDirection[deg]', inplace=True, axis=1)\n",
    "data.drop('dernier_WindDirection[deg]', inplace=True, axis=1)"
   ]
  },
  {
   "cell_type": "code",
   "execution_count": 6,
   "id": "0792dd8f",
   "metadata": {
    "execution": {
     "iopub.execute_input": "2023-01-23T18:48:27.812066Z",
     "iopub.status.busy": "2023-01-23T18:48:27.810813Z",
     "iopub.status.idle": "2023-01-23T18:48:27.831453Z",
     "shell.execute_reply": "2023-01-23T18:48:27.830510Z"
    },
    "papermill": {
     "duration": 0.031921,
     "end_time": "2023-01-23T18:48:27.833468",
     "exception": false,
     "start_time": "2023-01-23T18:48:27.801547",
     "status": "completed"
    },
    "tags": []
   },
   "outputs": [
    {
     "data": {
      "text/html": [
       "<div>\n",
       "<style scoped>\n",
       "    .dataframe tbody tr th:only-of-type {\n",
       "        vertical-align: middle;\n",
       "    }\n",
       "\n",
       "    .dataframe tbody tr th {\n",
       "        vertical-align: top;\n",
       "    }\n",
       "\n",
       "    .dataframe thead th {\n",
       "        text-align: right;\n",
       "    }\n",
       "</style>\n",
       "<table border=\"1\" class=\"dataframe\">\n",
       "  <thead>\n",
       "    <tr style=\"text-align: right;\">\n",
       "      <th></th>\n",
       "      <th>moy_Temp[°C]</th>\n",
       "      <th>max_Temp[°C]</th>\n",
       "      <th>min_Temp[°C]</th>\n",
       "      <th>moy_DewPoint[°C]</th>\n",
       "      <th>min_DewPoint[°C]</th>\n",
       "      <th>moy_SolarRadiation[W/m2]</th>\n",
       "      <th>moy_VPD[kPa]</th>\n",
       "      <th>min_VPD[kPa]</th>\n",
       "      <th>moy_RelativeHumidity[%]</th>\n",
       "      <th>max_RelativeHumidity[%]</th>\n",
       "      <th>min_RelativeHumidity[%]</th>\n",
       "      <th>Somme_Precipitation[mm]</th>\n",
       "      <th>moy_WindSpeed[m/s]</th>\n",
       "      <th>max_WindSpeed[m/s]</th>\n",
       "      <th>max_WindSpeedMax[m/s]</th>\n",
       "      <th>ETP quotidien [mm]</th>\n",
       "    </tr>\n",
       "  </thead>\n",
       "  <tbody>\n",
       "    <tr>\n",
       "      <th>0</th>\n",
       "      <td>24.73</td>\n",
       "      <td>35.08</td>\n",
       "      <td>15.11</td>\n",
       "      <td>12.4</td>\n",
       "      <td>8.8</td>\n",
       "      <td>361</td>\n",
       "      <td>1.90</td>\n",
       "      <td>0.30</td>\n",
       "      <td>51.87</td>\n",
       "      <td>83.30</td>\n",
       "      <td>22.00</td>\n",
       "      <td>0.0</td>\n",
       "      <td>0.5</td>\n",
       "      <td>2.1</td>\n",
       "      <td>4.4</td>\n",
       "      <td>2.8</td>\n",
       "    </tr>\n",
       "    <tr>\n",
       "      <th>1</th>\n",
       "      <td>25.26</td>\n",
       "      <td>35.79</td>\n",
       "      <td>16.40</td>\n",
       "      <td>14.6</td>\n",
       "      <td>8.0</td>\n",
       "      <td>288</td>\n",
       "      <td>1.73</td>\n",
       "      <td>0.00</td>\n",
       "      <td>59.06</td>\n",
       "      <td>99.54</td>\n",
       "      <td>19.84</td>\n",
       "      <td>0.0</td>\n",
       "      <td>0.6</td>\n",
       "      <td>1.7</td>\n",
       "      <td>5.3</td>\n",
       "      <td>5.0</td>\n",
       "    </tr>\n",
       "    <tr>\n",
       "      <th>2</th>\n",
       "      <td>28.37</td>\n",
       "      <td>36.71</td>\n",
       "      <td>19.80</td>\n",
       "      <td>12.3</td>\n",
       "      <td>7.4</td>\n",
       "      <td>285</td>\n",
       "      <td>2.56</td>\n",
       "      <td>0.95</td>\n",
       "      <td>38.43</td>\n",
       "      <td>65.76</td>\n",
       "      <td>23.60</td>\n",
       "      <td>0.0</td>\n",
       "      <td>0.7</td>\n",
       "      <td>2.6</td>\n",
       "      <td>5.3</td>\n",
       "      <td>5.3</td>\n",
       "    </tr>\n",
       "    <tr>\n",
       "      <th>3</th>\n",
       "      <td>32.17</td>\n",
       "      <td>43.43</td>\n",
       "      <td>19.68</td>\n",
       "      <td>0.9</td>\n",
       "      <td>-4.7</td>\n",
       "      <td>296</td>\n",
       "      <td>4.55</td>\n",
       "      <td>1.70</td>\n",
       "      <td>16.44</td>\n",
       "      <td>38.56</td>\n",
       "      <td>5.23</td>\n",
       "      <td>0.0</td>\n",
       "      <td>0.6</td>\n",
       "      <td>2.3</td>\n",
       "      <td>6.6</td>\n",
       "      <td>5.3</td>\n",
       "    </tr>\n",
       "    <tr>\n",
       "      <th>4</th>\n",
       "      <td>32.30</td>\n",
       "      <td>41.90</td>\n",
       "      <td>21.26</td>\n",
       "      <td>8.7</td>\n",
       "      <td>1.5</td>\n",
       "      <td>290</td>\n",
       "      <td>3.97</td>\n",
       "      <td>1.39</td>\n",
       "      <td>26.68</td>\n",
       "      <td>47.56</td>\n",
       "      <td>9.52</td>\n",
       "      <td>0.0</td>\n",
       "      <td>0.6</td>\n",
       "      <td>2.7</td>\n",
       "      <td>6.7</td>\n",
       "      <td>5.5</td>\n",
       "    </tr>\n",
       "  </tbody>\n",
       "</table>\n",
       "</div>"
      ],
      "text/plain": [
       "   moy_Temp[°C]  max_Temp[°C]  min_Temp[°C]  moy_DewPoint[°C]  \\\n",
       "0         24.73         35.08         15.11              12.4   \n",
       "1         25.26         35.79         16.40              14.6   \n",
       "2         28.37         36.71         19.80              12.3   \n",
       "3         32.17         43.43         19.68               0.9   \n",
       "4         32.30         41.90         21.26               8.7   \n",
       "\n",
       "   min_DewPoint[°C]  moy_SolarRadiation[W/m2]  moy_VPD[kPa]  min_VPD[kPa]  \\\n",
       "0               8.8                       361          1.90          0.30   \n",
       "1               8.0                       288          1.73          0.00   \n",
       "2               7.4                       285          2.56          0.95   \n",
       "3              -4.7                       296          4.55          1.70   \n",
       "4               1.5                       290          3.97          1.39   \n",
       "\n",
       "   moy_RelativeHumidity[%]  max_RelativeHumidity[%]  min_RelativeHumidity[%]  \\\n",
       "0                    51.87                    83.30                    22.00   \n",
       "1                    59.06                    99.54                    19.84   \n",
       "2                    38.43                    65.76                    23.60   \n",
       "3                    16.44                    38.56                     5.23   \n",
       "4                    26.68                    47.56                     9.52   \n",
       "\n",
       "   Somme_Precipitation[mm]  moy_WindSpeed[m/s]  max_WindSpeed[m/s]  \\\n",
       "0                      0.0                 0.5                 2.1   \n",
       "1                      0.0                 0.6                 1.7   \n",
       "2                      0.0                 0.7                 2.6   \n",
       "3                      0.0                 0.6                 2.3   \n",
       "4                      0.0                 0.6                 2.7   \n",
       "\n",
       "   max_WindSpeedMax[m/s]  ETP quotidien [mm]  \n",
       "0                    4.4                 2.8  \n",
       "1                    5.3                 5.0  \n",
       "2                    5.3                 5.3  \n",
       "3                    6.6                 5.3  \n",
       "4                    6.7                 5.5  "
      ]
     },
     "execution_count": 6,
     "metadata": {},
     "output_type": "execute_result"
    }
   ],
   "source": [
    "data.head()"
   ]
  },
  {
   "cell_type": "code",
   "execution_count": 7,
   "id": "ef1a7b0c",
   "metadata": {
    "execution": {
     "iopub.execute_input": "2023-01-23T18:48:27.852496Z",
     "iopub.status.busy": "2023-01-23T18:48:27.852033Z",
     "iopub.status.idle": "2023-01-23T18:48:27.866307Z",
     "shell.execute_reply": "2023-01-23T18:48:27.864923Z"
    },
    "papermill": {
     "duration": 0.026804,
     "end_time": "2023-01-23T18:48:27.868824",
     "exception": false,
     "start_time": "2023-01-23T18:48:27.842020",
     "status": "completed"
    },
    "tags": []
   },
   "outputs": [],
   "source": [
    "data.fillna(data.median(numeric_only=True).round(1), inplace=True)"
   ]
  },
  {
   "cell_type": "code",
   "execution_count": 8,
   "id": "e238374d",
   "metadata": {
    "execution": {
     "iopub.execute_input": "2023-01-23T18:48:27.887372Z",
     "iopub.status.busy": "2023-01-23T18:48:27.886900Z",
     "iopub.status.idle": "2023-01-23T18:48:27.896476Z",
     "shell.execute_reply": "2023-01-23T18:48:27.895498Z"
    },
    "papermill": {
     "duration": 0.021416,
     "end_time": "2023-01-23T18:48:27.898683",
     "exception": false,
     "start_time": "2023-01-23T18:48:27.877267",
     "status": "completed"
    },
    "tags": []
   },
   "outputs": [
    {
     "data": {
      "text/plain": [
       "moy_Temp[°C]                0\n",
       "max_Temp[°C]                0\n",
       "min_Temp[°C]                0\n",
       "moy_DewPoint[°C]            0\n",
       "min_DewPoint[°C]            0\n",
       "moy_SolarRadiation[W/m2]    0\n",
       "moy_VPD[kPa]                0\n",
       "min_VPD[kPa]                0\n",
       "moy_RelativeHumidity[%]     0\n",
       "max_RelativeHumidity[%]     0\n",
       "min_RelativeHumidity[%]     0\n",
       "Somme_Precipitation[mm]     0\n",
       "moy_WindSpeed[m/s]          0\n",
       "max_WindSpeed[m/s]          0\n",
       "max_WindSpeedMax[m/s]       0\n",
       "ETP quotidien [mm]          0\n",
       "dtype: int64"
      ]
     },
     "execution_count": 8,
     "metadata": {},
     "output_type": "execute_result"
    }
   ],
   "source": [
    "data.isna().sum()"
   ]
  },
  {
   "cell_type": "code",
   "execution_count": 9,
   "id": "c46dd24a",
   "metadata": {
    "execution": {
     "iopub.execute_input": "2023-01-23T18:48:27.919476Z",
     "iopub.status.busy": "2023-01-23T18:48:27.919006Z",
     "iopub.status.idle": "2023-01-23T18:48:27.926942Z",
     "shell.execute_reply": "2023-01-23T18:48:27.926023Z"
    },
    "papermill": {
     "duration": 0.021422,
     "end_time": "2023-01-23T18:48:27.928908",
     "exception": false,
     "start_time": "2023-01-23T18:48:27.907486",
     "status": "completed"
    },
    "tags": []
   },
   "outputs": [
    {
     "data": {
      "text/plain": [
       "moy_Temp[°C]                float64\n",
       "max_Temp[°C]                float64\n",
       "min_Temp[°C]                float64\n",
       "moy_DewPoint[°C]            float64\n",
       "min_DewPoint[°C]            float64\n",
       "moy_SolarRadiation[W/m2]      int64\n",
       "moy_VPD[kPa]                float64\n",
       "min_VPD[kPa]                float64\n",
       "moy_RelativeHumidity[%]     float64\n",
       "max_RelativeHumidity[%]     float64\n",
       "min_RelativeHumidity[%]     float64\n",
       "Somme_Precipitation[mm]     float64\n",
       "moy_WindSpeed[m/s]          float64\n",
       "max_WindSpeed[m/s]          float64\n",
       "max_WindSpeedMax[m/s]       float64\n",
       "ETP quotidien [mm]          float64\n",
       "dtype: object"
      ]
     },
     "execution_count": 9,
     "metadata": {},
     "output_type": "execute_result"
    }
   ],
   "source": [
    "data.dtypes"
   ]
  },
  {
   "cell_type": "code",
   "execution_count": 10,
   "id": "f5f4ab3a",
   "metadata": {
    "execution": {
     "iopub.execute_input": "2023-01-23T18:48:27.947865Z",
     "iopub.status.busy": "2023-01-23T18:48:27.947437Z",
     "iopub.status.idle": "2023-01-23T18:48:27.953143Z",
     "shell.execute_reply": "2023-01-23T18:48:27.952528Z"
    },
    "papermill": {
     "duration": 0.016864,
     "end_time": "2023-01-23T18:48:27.954730",
     "exception": false,
     "start_time": "2023-01-23T18:48:27.937866",
     "status": "completed"
    },
    "tags": []
   },
   "outputs": [],
   "source": [
    "Lables = data[\"ETP quotidien [mm]\"]\n",
    "data.drop(\"ETP quotidien [mm]\", inplace=True, axis=1)"
   ]
  },
  {
   "cell_type": "markdown",
   "id": "767b3392",
   "metadata": {
    "papermill": {
     "duration": 0.008449,
     "end_time": "2023-01-23T18:48:27.972828",
     "exception": false,
     "start_time": "2023-01-23T18:48:27.964379",
     "status": "completed"
    },
    "tags": []
   },
   "source": [
    "**Splitting training testing data**"
   ]
  },
  {
   "cell_type": "code",
   "execution_count": 11,
   "id": "4bc3327c",
   "metadata": {
    "execution": {
     "iopub.execute_input": "2023-01-23T18:48:27.993552Z",
     "iopub.status.busy": "2023-01-23T18:48:27.992018Z",
     "iopub.status.idle": "2023-01-23T18:48:28.001108Z",
     "shell.execute_reply": "2023-01-23T18:48:27.999337Z"
    },
    "papermill": {
     "duration": 0.022875,
     "end_time": "2023-01-23T18:48:28.004319",
     "exception": false,
     "start_time": "2023-01-23T18:48:27.981444",
     "status": "completed"
    },
    "tags": []
   },
   "outputs": [],
   "source": [
    "X_train, X_test, Y_train, Y_test = train_test_split(data, Lables, test_size=0.2, random_state=42)"
   ]
  },
  {
   "cell_type": "code",
   "execution_count": 12,
   "id": "0758ce35",
   "metadata": {
    "execution": {
     "iopub.execute_input": "2023-01-23T18:48:28.024512Z",
     "iopub.status.busy": "2023-01-23T18:48:28.023979Z",
     "iopub.status.idle": "2023-01-23T18:48:28.030527Z",
     "shell.execute_reply": "2023-01-23T18:48:28.029647Z"
    },
    "papermill": {
     "duration": 0.019061,
     "end_time": "2023-01-23T18:48:28.032391",
     "exception": false,
     "start_time": "2023-01-23T18:48:28.013330",
     "status": "completed"
    },
    "tags": []
   },
   "outputs": [
    {
     "data": {
      "text/plain": [
       "['moy_Temp[°C]',\n",
       " 'max_Temp[°C]',\n",
       " 'min_Temp[°C]',\n",
       " 'moy_DewPoint[°C]',\n",
       " 'min_DewPoint[°C]',\n",
       " 'moy_SolarRadiation[W/m2]',\n",
       " 'moy_VPD[kPa]',\n",
       " 'min_VPD[kPa]',\n",
       " 'moy_RelativeHumidity[%]',\n",
       " 'max_RelativeHumidity[%]',\n",
       " 'min_RelativeHumidity[%]',\n",
       " 'Somme_Precipitation[mm]',\n",
       " 'moy_WindSpeed[m/s]',\n",
       " 'max_WindSpeed[m/s]',\n",
       " 'max_WindSpeedMax[m/s]']"
      ]
     },
     "execution_count": 12,
     "metadata": {},
     "output_type": "execute_result"
    }
   ],
   "source": [
    "list(X_test.columns)"
   ]
  },
  {
   "cell_type": "code",
   "execution_count": 13,
   "id": "6dfc2fb3",
   "metadata": {
    "execution": {
     "iopub.execute_input": "2023-01-23T18:48:28.052385Z",
     "iopub.status.busy": "2023-01-23T18:48:28.051928Z",
     "iopub.status.idle": "2023-01-23T18:48:28.059761Z",
     "shell.execute_reply": "2023-01-23T18:48:28.058547Z"
    },
    "papermill": {
     "duration": 0.020578,
     "end_time": "2023-01-23T18:48:28.062050",
     "exception": false,
     "start_time": "2023-01-23T18:48:28.041472",
     "status": "completed"
    },
    "tags": []
   },
   "outputs": [
    {
     "name": "stdout",
     "output_type": "stream",
     "text": [
      "Size of Training data =  1424\n",
      "Size of Training label =  1424\n",
      "Size of Testing data =  357\n",
      "Size of Testing label =  357\n"
     ]
    }
   ],
   "source": [
    "print(\"Size of Training data = \" , len(X_train))\n",
    "print(\"Size of Training label = \" , len(Y_train))\n",
    "print(\"Size of Testing data = \" , len(X_test))\n",
    "print(\"Size of Testing label = \" , len(Y_test))"
   ]
  },
  {
   "cell_type": "markdown",
   "id": "10a385a0",
   "metadata": {
    "papermill": {
     "duration": 0.008467,
     "end_time": "2023-01-23T18:48:28.079368",
     "exception": false,
     "start_time": "2023-01-23T18:48:28.070901",
     "status": "completed"
    },
    "tags": []
   },
   "source": [
    "**Encoding the labels for training and testing**"
   ]
  },
  {
   "cell_type": "code",
   "execution_count": 14,
   "id": "dfdc28df",
   "metadata": {
    "execution": {
     "iopub.execute_input": "2023-01-23T18:48:28.099320Z",
     "iopub.status.busy": "2023-01-23T18:48:28.098747Z",
     "iopub.status.idle": "2023-01-23T18:48:28.103557Z",
     "shell.execute_reply": "2023-01-23T18:48:28.102522Z"
    },
    "papermill": {
     "duration": 0.018278,
     "end_time": "2023-01-23T18:48:28.106358",
     "exception": false,
     "start_time": "2023-01-23T18:48:28.088080",
     "status": "completed"
    },
    "tags": []
   },
   "outputs": [],
   "source": [
    "label_encoder = preprocessing.LabelEncoder()"
   ]
  },
  {
   "cell_type": "code",
   "execution_count": 15,
   "id": "98fdd257",
   "metadata": {
    "execution": {
     "iopub.execute_input": "2023-01-23T18:48:28.125736Z",
     "iopub.status.busy": "2023-01-23T18:48:28.125303Z",
     "iopub.status.idle": "2023-01-23T18:48:28.130546Z",
     "shell.execute_reply": "2023-01-23T18:48:28.129721Z"
    },
    "papermill": {
     "duration": 0.017073,
     "end_time": "2023-01-23T18:48:28.132442",
     "exception": false,
     "start_time": "2023-01-23T18:48:28.115369",
     "status": "completed"
    },
    "tags": []
   },
   "outputs": [],
   "source": [
    "Y_Train_transformed = label_encoder.fit_transform(Y_train)"
   ]
  },
  {
   "cell_type": "code",
   "execution_count": 16,
   "id": "0079ed1b",
   "metadata": {
    "execution": {
     "iopub.execute_input": "2023-01-23T18:48:28.152575Z",
     "iopub.status.busy": "2023-01-23T18:48:28.152041Z",
     "iopub.status.idle": "2023-01-23T18:48:28.157341Z",
     "shell.execute_reply": "2023-01-23T18:48:28.156564Z"
    },
    "papermill": {
     "duration": 0.017638,
     "end_time": "2023-01-23T18:48:28.159254",
     "exception": false,
     "start_time": "2023-01-23T18:48:28.141616",
     "status": "completed"
    },
    "tags": []
   },
   "outputs": [],
   "source": [
    "Y_Test_transformed = label_encoder.fit_transform(Y_test)"
   ]
  },
  {
   "cell_type": "markdown",
   "id": "0ec2e652",
   "metadata": {
    "papermill": {
     "duration": 0.008162,
     "end_time": "2023-01-23T18:48:28.176225",
     "exception": false,
     "start_time": "2023-01-23T18:48:28.168063",
     "status": "completed"
    },
    "tags": []
   },
   "source": [
    "**Random Forest**"
   ]
  },
  {
   "cell_type": "code",
   "execution_count": 17,
   "id": "44c792f0",
   "metadata": {
    "execution": {
     "iopub.execute_input": "2023-01-23T18:48:28.195657Z",
     "iopub.status.busy": "2023-01-23T18:48:28.195209Z",
     "iopub.status.idle": "2023-01-23T18:48:28.870190Z",
     "shell.execute_reply": "2023-01-23T18:48:28.868340Z"
    },
    "papermill": {
     "duration": 0.688411,
     "end_time": "2023-01-23T18:48:28.873401",
     "exception": false,
     "start_time": "2023-01-23T18:48:28.184990",
     "status": "completed"
    },
    "tags": []
   },
   "outputs": [
    {
     "name": "stdout",
     "output_type": "stream",
     "text": [
      "Accuracy for random forest : 0.11484593837535013\n",
      "F1 score with macro avg for Random_forest classifier : 0.0888099613999901\n",
      "F1 score with micro avg for Random_forest classifier : 0.11484593837535013\n"
     ]
    }
   ],
   "source": [
    "# Create Random forest classifer object\n",
    "Random_forest = RandomForestClassifier(n_estimators=100)\n",
    "\n",
    "# Train Random forest Classifer\n",
    "Random_forest.fit(X_train,Y_Train_transformed)\n",
    "\n",
    "#Predict the response for test dataset\n",
    "Random_forest_preds = Random_forest.predict(X_test)\n",
    "\n",
    "# Model Accuracy, how often is the classifier correct?\n",
    "Random_forest_accuracy = metrics.accuracy_score(Y_Test_transformed, Random_forest_preds)\n",
    "print(\"Accuracy for random forest :\",Random_forest_accuracy)\n",
    "Random_forest_F1_score_macro = f1_score(Y_Test_transformed, Random_forest_preds, average='macro')\n",
    "print(\"F1 score with macro avg for Random_forest classifier :\" , Random_forest_F1_score_macro)\n",
    "Random_forest_F1_score_micro = f1_score(Y_Test_transformed, Random_forest_preds, average='micro')\n",
    "print(\"F1 score with micro avg for Random_forest classifier :\" , Random_forest_F1_score_micro)"
   ]
  },
  {
   "cell_type": "code",
   "execution_count": 18,
   "id": "daa68036",
   "metadata": {
    "execution": {
     "iopub.execute_input": "2023-01-23T18:48:28.893319Z",
     "iopub.status.busy": "2023-01-23T18:48:28.892882Z",
     "iopub.status.idle": "2023-01-23T18:48:29.040455Z",
     "shell.execute_reply": "2023-01-23T18:48:29.039457Z"
    },
    "papermill": {
     "duration": 0.160083,
     "end_time": "2023-01-23T18:48:29.042670",
     "exception": false,
     "start_time": "2023-01-23T18:48:28.882587",
     "status": "completed"
    },
    "tags": []
   },
   "outputs": [
    {
     "data": {
      "image/png": "[encoded data removed]",
      "text/plain": [
       "<Figure size 360x360 with 1 Axes>"
      ]
     },
     "metadata": {
      "needs_background": "light"
     },
     "output_type": "display_data"
    }
   ],
   "source": [
    "#Plotting Random_forest acurracy metrics\n",
    "Y_axis = [Random_forest_accuracy , Random_forest_F1_score_macro , Random_forest_F1_score_micro]\n",
    "X_axis = [\"Accuracy\" , \"F1_score_macro\", \"F1_score_micro\"]\n",
    "\n",
    "fig = plt.figure(figsize =(5, 5))\n",
    "\n",
    "# Horizontal Bar Plot\n",
    "plt.bar(X_axis, Y_axis,color = ['red', 'green','blue'])\n",
    " \n",
    "# Show Plot\n",
    "plt.show()"
   ]
  },
  {
   "cell_type": "code",
   "execution_count": 19,
   "id": "56552f72",
   "metadata": {
    "execution": {
     "iopub.execute_input": "2023-01-23T18:48:29.066092Z",
     "iopub.status.busy": "2023-01-23T18:48:29.064528Z",
     "iopub.status.idle": "2023-01-23T18:48:29.070521Z",
     "shell.execute_reply": "2023-01-23T18:48:29.069500Z"
    },
    "papermill": {
     "duration": 0.019174,
     "end_time": "2023-01-23T18:48:29.072577",
     "exception": false,
     "start_time": "2023-01-23T18:48:29.053403",
     "status": "completed"
    },
    "tags": []
   },
   "outputs": [],
   "source": [
    "# cm = confusion_matrix(Y_Test_transformed,Random_forest_preds)\n",
    "# fig , ax= plt.subplots(figsize=(10, 10))\n",
    "# sns.heatmap(cm, cmap=plt.cm.Blues,annot = True,ax=ax)\n",
    "# ax.set_xlabel('Predicted labels')\n",
    "# ax.set_ylabel('True labels')\n",
    "# ax.set_title('Random forest Confusion Matrix')\n",
    "# plt.show()"
   ]
  },
  {
   "cell_type": "code",
   "execution_count": 20,
   "id": "0238a5e8",
   "metadata": {
    "execution": {
     "iopub.execute_input": "2023-01-23T18:48:29.092747Z",
     "iopub.status.busy": "2023-01-23T18:48:29.092346Z",
     "iopub.status.idle": "2023-01-23T18:48:29.097373Z",
     "shell.execute_reply": "2023-01-23T18:48:29.096064Z"
    },
    "papermill": {
     "duration": 0.017598,
     "end_time": "2023-01-23T18:48:29.099444",
     "exception": false,
     "start_time": "2023-01-23T18:48:29.081846",
     "status": "completed"
    },
    "tags": []
   },
   "outputs": [],
   "source": [
    "# print(classification_report(Y_Test_transformed,Random_forest_preds))"
   ]
  },
  {
   "cell_type": "markdown",
   "id": "869cf1f3",
   "metadata": {
    "papermill": {
     "duration": 0.010105,
     "end_time": "2023-01-23T18:48:29.118894",
     "exception": false,
     "start_time": "2023-01-23T18:48:29.108789",
     "status": "completed"
    },
    "tags": []
   },
   "source": [
    "**Decision Tree**"
   ]
  },
  {
   "cell_type": "code",
   "execution_count": 21,
   "id": "d5583f20",
   "metadata": {
    "execution": {
     "iopub.execute_input": "2023-01-23T18:48:29.138891Z",
     "iopub.status.busy": "2023-01-23T18:48:29.138470Z",
     "iopub.status.idle": "2023-01-23T18:48:29.180804Z",
     "shell.execute_reply": "2023-01-23T18:48:29.179825Z"
    },
    "papermill": {
     "duration": 0.054881,
     "end_time": "2023-01-23T18:48:29.183017",
     "exception": false,
     "start_time": "2023-01-23T18:48:29.128136",
     "status": "completed"
    },
    "tags": []
   },
   "outputs": [
    {
     "name": "stdout",
     "output_type": "stream",
     "text": [
      "Accuracy for decisoion Tree: 0.11484593837535013\n",
      "F1 score with macro avg for Decisoion Tree classifier : 0.10018512552073022\n",
      "F1 score with micro avg for Decisoion Tree classifier : 0.11484593837535013\n"
     ]
    }
   ],
   "source": [
    "# Create Decision Tree classifer object\n",
    "Decision_Tree = DecisionTreeClassifier()\n",
    "\n",
    "# Train Decision Tree Classifer\n",
    "Decision_Tree.fit(X_train,Y_Train_transformed)\n",
    "\n",
    "#Predict the response for test dataset\n",
    "Decision_Tree_preds = Decision_Tree.predict(X_test)\n",
    "\n",
    "# Model Accuracy, how often is the classifier correct?\n",
    "Decision_tree_accuracy = metrics.accuracy_score(Y_Test_transformed, Decision_Tree_preds)\n",
    "print(\"Accuracy for decisoion Tree:\",Decision_tree_accuracy)\n",
    "Decision_tree_F1_score_macro = f1_score(Y_Test_transformed, Decision_Tree_preds, average='macro')\n",
    "print(\"F1 score with macro avg for Decisoion Tree classifier :\" , Decision_tree_F1_score_macro)\n",
    "Decision_tree_F1_score_micro = f1_score(Y_Test_transformed, Decision_Tree_preds, average='micro')\n",
    "print(\"F1 score with micro avg for Decisoion Tree classifier :\" , Decision_tree_F1_score_micro)"
   ]
  },
  {
   "cell_type": "code",
   "execution_count": 22,
   "id": "93f2a37b",
   "metadata": {
    "execution": {
     "iopub.execute_input": "2023-01-23T18:48:29.203877Z",
     "iopub.status.busy": "2023-01-23T18:48:29.203453Z",
     "iopub.status.idle": "2023-01-23T18:48:29.318837Z",
     "shell.execute_reply": "2023-01-23T18:48:29.317512Z"
    },
    "papermill": {
     "duration": 0.129968,
     "end_time": "2023-01-23T18:48:29.322593",
     "exception": false,
     "start_time": "2023-01-23T18:48:29.192625",
     "status": "completed"
    },
    "tags": []
   },
   "outputs": [
    {
     "data": {
      "image/png": "[encoded data removed]",
      "text/plain": [
       "<Figure size 360x360 with 1 Axes>"
      ]
     },
     "metadata": {
      "needs_background": "light"
     },
     "output_type": "display_data"
    }
   ],
   "source": [
    "Y_axis = [Decision_tree_accuracy , Decision_tree_F1_score_macro , Decision_tree_F1_score_micro]\n",
    "X_axis = [\"Accuracy\" , \"F1_score_macro\", \"F1_score_micro\"]\n",
    "\n",
    "fig = plt.figure(figsize =(5, 5))\n",
    " \n",
    "# Horizontal Bar Plot\n",
    "plt.bar(X_axis, Y_axis,color = ['red', 'green','blue'])\n",
    " \n",
    "# Show Plot\n",
    "plt.show()"
   ]
  },
  {
   "cell_type": "code",
   "execution_count": 23,
   "id": "99e3deec",
   "metadata": {
    "execution": {
     "iopub.execute_input": "2023-01-23T18:48:29.349753Z",
     "iopub.status.busy": "2023-01-23T18:48:29.349318Z",
     "iopub.status.idle": "2023-01-23T18:48:29.354942Z",
     "shell.execute_reply": "2023-01-23T18:48:29.354213Z"
    },
    "papermill": {
     "duration": 0.021727,
     "end_time": "2023-01-23T18:48:29.356875",
     "exception": false,
     "start_time": "2023-01-23T18:48:29.335148",
     "status": "completed"
    },
    "tags": []
   },
   "outputs": [],
   "source": [
    "# cm = confusion_matrix(Y_Test_transformed,Decision_Tree_preds)\n",
    "# fig , ax= plt.subplots(figsize=(10, 10))\n",
    "# sns.heatmap(cm, cmap=plt.cm.Blues,annot = True,ax=ax)\n",
    "# ax.set_xlabel('Predicted labels')\n",
    "# ax.set_ylabel('True labels')\n",
    "# ax.set_title('Decision Tree Confusion Matrix')\n",
    "# plt.show()"
   ]
  },
  {
   "cell_type": "code",
   "execution_count": 24,
   "id": "473192f7",
   "metadata": {
    "execution": {
     "iopub.execute_input": "2023-01-23T18:48:29.378539Z",
     "iopub.status.busy": "2023-01-23T18:48:29.378054Z",
     "iopub.status.idle": "2023-01-23T18:48:29.382543Z",
     "shell.execute_reply": "2023-01-23T18:48:29.381604Z"
    },
    "papermill": {
     "duration": 0.01839,
     "end_time": "2023-01-23T18:48:29.385759",
     "exception": false,
     "start_time": "2023-01-23T18:48:29.367369",
     "status": "completed"
    },
    "tags": []
   },
   "outputs": [],
   "source": [
    "# print(classification_report(Y_Test_transformed,Decision_Tree_preds))"
   ]
  },
  {
   "cell_type": "markdown",
   "id": "8199e77a",
   "metadata": {
    "papermill": {
     "duration": 0.009172,
     "end_time": "2023-01-23T18:48:29.405307",
     "exception": false,
     "start_time": "2023-01-23T18:48:29.396135",
     "status": "completed"
    },
    "tags": []
   },
   "source": [
    "**SVR**"
   ]
  },
  {
   "cell_type": "code",
   "execution_count": 25,
   "id": "9c157e59",
   "metadata": {
    "execution": {
     "iopub.execute_input": "2023-01-23T18:48:29.426760Z",
     "iopub.status.busy": "2023-01-23T18:48:29.426272Z",
     "iopub.status.idle": "2023-01-23T18:48:29.565664Z",
     "shell.execute_reply": "2023-01-23T18:48:29.564485Z"
    },
    "papermill": {
     "duration": 0.153548,
     "end_time": "2023-01-23T18:48:29.568446",
     "exception": false,
     "start_time": "2023-01-23T18:48:29.414898",
     "status": "completed"
    },
    "tags": []
   },
   "outputs": [
    {
     "name": "stdout",
     "output_type": "stream",
     "text": [
      "R2 score for SVR regression: 0.9470843962238302\n"
     ]
    }
   ],
   "source": [
    "# Create SVR regression object\n",
    "SVR_regressor = SVR(C=1.0, epsilon=0.2)\n",
    "\n",
    "# Train SVR regression\n",
    "SVR_regressor.fit(X_train,Y_Train_transformed)\n",
    "\n",
    "#Predict the response for test dataset\n",
    "SVR_Regressor_preds = SVR_regressor.predict(X_test)\n",
    "\n",
    "# Model Accuracy, how often is the regressor correct?\n",
    "SVR_Accuracy = r2_score(Y_Test_transformed, SVR_Regressor_preds)\n",
    "print(\"R2 score for SVR regression:\",SVR_Accuracy)\n"
   ]
  },
  {
   "cell_type": "code",
   "execution_count": 26,
   "id": "1825c30e",
   "metadata": {
    "execution": {
     "iopub.execute_input": "2023-01-23T18:48:29.592723Z",
     "iopub.status.busy": "2023-01-23T18:48:29.591800Z",
     "iopub.status.idle": "2023-01-23T18:48:29.600709Z",
     "shell.execute_reply": "2023-01-23T18:48:29.599529Z"
    },
    "papermill": {
     "duration": 0.026147,
     "end_time": "2023-01-23T18:48:29.604785",
     "exception": false,
     "start_time": "2023-01-23T18:48:29.578638",
     "status": "completed"
    },
    "tags": []
   },
   "outputs": [
    {
     "data": {
      "text/plain": [
       "0.11551152063307875"
      ]
     },
     "execution_count": 26,
     "metadata": {},
     "output_type": "execute_result"
    }
   ],
   "source": [
    "SVR_mean_squared_log_error = mean_squared_log_error(Y_Test_transformed, SVR_Regressor_preds)\n",
    "SVR_mean_squared_log_error"
   ]
  },
  {
   "cell_type": "code",
   "execution_count": 27,
   "id": "6b17a3a7",
   "metadata": {
    "execution": {
     "iopub.execute_input": "2023-01-23T18:48:29.632864Z",
     "iopub.status.busy": "2023-01-23T18:48:29.631498Z",
     "iopub.status.idle": "2023-01-23T18:48:29.645312Z",
     "shell.execute_reply": "2023-01-23T18:48:29.643837Z"
    },
    "papermill": {
     "duration": 0.030191,
     "end_time": "2023-01-23T18:48:29.647662",
     "exception": false,
     "start_time": "2023-01-23T18:48:29.617471",
     "status": "completed"
    },
    "tags": []
   },
   "outputs": [
    {
     "data": {
      "text/plain": [
       "2.9976748052464304"
      ]
     },
     "execution_count": 27,
     "metadata": {},
     "output_type": "execute_result"
    }
   ],
   "source": [
    "SVR_mean_absolute_error = mean_absolute_error(Y_Test_transformed, SVR_Regressor_preds)\n",
    "SVR_mean_absolute_error"
   ]
  },
  {
   "cell_type": "code",
   "execution_count": 28,
   "id": "d525aead",
   "metadata": {
    "execution": {
     "iopub.execute_input": "2023-01-23T18:48:29.673030Z",
     "iopub.status.busy": "2023-01-23T18:48:29.672569Z",
     "iopub.status.idle": "2023-01-23T18:48:29.774138Z",
     "shell.execute_reply": "2023-01-23T18:48:29.773220Z"
    },
    "papermill": {
     "duration": 0.118129,
     "end_time": "2023-01-23T18:48:29.776087",
     "exception": false,
     "start_time": "2023-01-23T18:48:29.657958",
     "status": "completed"
    },
    "tags": []
   },
   "outputs": [
    {
     "data": {
      "image/png": "[encoded data removed]",
      "text/plain": [
       "<Figure size 360x360 with 1 Axes>"
      ]
     },
     "metadata": {
      "needs_background": "light"
     },
     "output_type": "display_data"
    }
   ],
   "source": [
    "Y_axis = [SVR_Accuracy , SVR_mean_squared_log_error , SVR_mean_absolute_error]\n",
    "X_axis = [\"R2 Score\" , \"MSLE\", \"MAE\"]\n",
    "\n",
    "fig = plt.figure(figsize =(5, 5))\n",
    " \n",
    "# Horizontal Bar Plot\n",
    "plt.bar(X_axis, Y_axis,color = ['red', 'green','blue'])\n",
    " \n",
    "# Show Plot\n",
    "plt.show()"
   ]
  },
  {
   "cell_type": "code",
   "execution_count": 29,
   "id": "239f3021",
   "metadata": {
    "execution": {
     "iopub.execute_input": "2023-01-23T18:48:29.797895Z",
     "iopub.status.busy": "2023-01-23T18:48:29.796544Z",
     "iopub.status.idle": "2023-01-23T18:48:29.801776Z",
     "shell.execute_reply": "2023-01-23T18:48:29.801108Z"
    },
    "papermill": {
     "duration": 0.017826,
     "end_time": "2023-01-23T18:48:29.803564",
     "exception": false,
     "start_time": "2023-01-23T18:48:29.785738",
     "status": "completed"
    },
    "tags": []
   },
   "outputs": [],
   "source": [
    "Accuracies = [Decision_tree_accuracy , Random_forest_accuracy , SVR_Accuracy]\n",
    "Models = [\"Decison_Tree\" , \"Random_Forest\", \"SVR\"]"
   ]
  },
  {
   "cell_type": "code",
   "execution_count": 30,
   "id": "7d1c3cd6",
   "metadata": {
    "execution": {
     "iopub.execute_input": "2023-01-23T18:48:29.826235Z",
     "iopub.status.busy": "2023-01-23T18:48:29.825067Z",
     "iopub.status.idle": "2023-01-23T18:48:29.913778Z",
     "shell.execute_reply": "2023-01-23T18:48:29.913028Z"
    },
    "papermill": {
     "duration": 0.102046,
     "end_time": "2023-01-23T18:48:29.915628",
     "exception": false,
     "start_time": "2023-01-23T18:48:29.813582",
     "status": "completed"
    },
    "tags": []
   },
   "outputs": [
    {
     "data": {
      "image/png": "[encoded data removed]",
      "text/plain": [
       "<Figure size 360x360 with 1 Axes>"
      ]
     },
     "metadata": {
      "needs_background": "light"
     },
     "output_type": "display_data"
    }
   ],
   "source": [
    "fig = plt.figure(figsize =(5, 5))\n",
    " \n",
    "# Horizontal Bar Plot\n",
    "plt.bar(Models, Accuracies,color = ['red', 'green','blue'])\n",
    " \n",
    "# Show Plot\n",
    "plt.show()"
   ]
  },
  {
   "cell_type": "code",
   "execution_count": null,
   "id": "cd529b9f",
   "metadata": {
    "papermill": {
     "duration": 0.009231,
     "end_time": "2023-01-23T18:48:29.934605",
     "exception": false,
     "start_time": "2023-01-23T18:48:29.925374",
     "status": "completed"
    },
    "tags": []
   },
   "outputs": [],
   "source": []
  }
 ],
 "metadata": {
  "kernelspec": {
   "display_name": "Python 3 (ipykernel)",
   "language": "python",
   "name": "python3"
  },
  "language_info": {
   "codemirror_mode": {
    "name": "ipython",
    "version": 3
   },
   "file_extension": ".py",
   "mimetype": "text/x-python",
   "name": "python",
   "nbconvert_exporter": "python",
   "pygments_lexer": "ipython3",
   "version": "3.9.7"
  },
  "papermill": {
   "default_parameters": {},
   "duration": 12.667472,
   "end_time": "2023-01-23T18:48:30.968881",
   "environment_variables": {},
   "exception": null,
   "input_path": "__notebook__.ipynb",
   "output_path": "__notebook__.ipynb",
   "parameters": {},
   "start_time": "2023-01-23T18:48:18.301409",
   "version": "2.3.4"
  }
 },
 "nbformat": 4,
 "nbformat_minor": 5
}
